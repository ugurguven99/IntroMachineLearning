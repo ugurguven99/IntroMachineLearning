{
  "nbformat": 4,
  "nbformat_minor": 0,
  "metadata": {
    "colab": {
      "provenance": [],
      "authorship_tag": "ABX9TyP8+V0uxZ96SEQ+v/lYEwry",
      "include_colab_link": true
    },
    "kernelspec": {
      "name": "python3",
      "display_name": "Python 3"
    },
    "language_info": {
      "name": "python"
    }
  },
  "cells": [
    {
      "cell_type": "markdown",
      "metadata": {
        "id": "view-in-github",
        "colab_type": "text"
      },
      "source": [
        "<a href=\"https://colab.research.google.com/github/ugurguven99/IntroMachineLearning/blob/main/Week-1/MachineLearningWeek1.ipynb\" target=\"_parent\"><img src=\"https://colab.research.google.com/assets/colab-badge.svg\" alt=\"Open In Colab\"/></a>"
      ]
    },
    {
      "cell_type": "code",
      "execution_count": null,
      "metadata": {
        "colab": {
          "base_uri": "https://localhost:8080/"
        },
        "id": "SpFXH4vy8Ilj",
        "outputId": "cfb39603-8238-4d29-82e6-1e6c4f264087"
      },
      "outputs": [
        {
          "output_type": "stream",
          "name": "stdout",
          "text": [
            "The sum of is: 15\n",
            "54\n",
            "Factorial of 5 is 120\n",
            "Area of circle is: 12.566370614359172\n"
          ]
        }
      ],
      "source": [
        "import numpy as np\n",
        "import pandas as pd\n",
        "import math\n",
        "\n",
        "#print(\"Hello World\")\n",
        "\n",
        "#fullname = input(\"Enter Your Full Name:\")\n",
        "\n",
        "#add two numbers\n",
        "number1=5\n",
        "number2=10\n",
        "\n",
        "total=number1+number2\n",
        "\n",
        "print('The sum of is:',total)\n",
        "\n",
        "\n",
        "#max of two numbers\n",
        "a=54\n",
        "b=6\n",
        "def max(a,b):\n",
        "    if a>=b:\n",
        "      return a\n",
        "    else:\n",
        "      return b\n",
        "print(max(a,b))\n",
        "\n",
        "\n",
        "#factorial of given number\n",
        "\n",
        "def fact(n):\n",
        "    if n<0:\n",
        "      return 0\n",
        "    elif n==0 or n==1:\n",
        "      return 1\n",
        "    else:\n",
        "        fac = 1\n",
        "        while(n > 1):\n",
        "            fac *= n\n",
        "            n -= 1\n",
        "        return fac\n",
        "number3 = 5\n",
        "print(\"Factorial of\",number3,\"is\",\n",
        "fact(number3))\n",
        "\n",
        "#find area circle\n",
        "\n",
        "import math\n",
        "def area(r):\n",
        "  area = math.pi* pow(r,2)\n",
        "  return print('Area of circle is:' ,area)\n",
        "area(2)"
      ]
    }
  ]
}