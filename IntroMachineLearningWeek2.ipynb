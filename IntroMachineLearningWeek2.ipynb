{
  "nbformat": 4,
  "nbformat_minor": 0,
  "metadata": {
    "colab": {
      "provenance": [],
      "authorship_tag": "ABX9TyPI24gvhh0rwPoOvwphkfwG",
      "include_colab_link": true
    },
    "kernelspec": {
      "name": "python3",
      "display_name": "Python 3"
    },
    "language_info": {
      "name": "python"
    }
  },
  "cells": [
    {
      "cell_type": "markdown",
      "metadata": {
        "id": "view-in-github",
        "colab_type": "text"
      },
      "source": [
        "<a href=\"https://colab.research.google.com/github/ugurguven99/IntroMachineLearning/blob/main/IntroMachineLearningWeek2.ipynb\" target=\"_parent\"><img src=\"https://colab.research.google.com/assets/colab-badge.svg\" alt=\"Open In Colab\"/></a>"
      ]
    },
    {
      "cell_type": "code",
      "execution_count": null,
      "metadata": {
        "id": "a3LvO5tqK_OW",
        "colab": {
          "base_uri": "https://localhost:8080/"
        },
        "outputId": "5be86077-51d9-49fe-90f9-7d983a202381"
      },
      "outputs": [
        {
          "output_type": "stream",
          "name": "stdout",
          "text": [
            "[1 2 3]\n",
            "4\n",
            "10\n",
            "3\n",
            "[2 3 4 5]\n",
            "[[2 3 4]\n",
            " [7 8 9]]\n",
            "[[ 1  2  3  4  5]\n",
            " [ 6  7  8  9 10]]\n",
            "shape of array : (2, 5)\n",
            "   arabalar  yaş         renk motor hacmi\n",
            "0     Mazda    3         mavi         1.6\n",
            "1    Toyota    7      kırmızı           3\n",
            "2  Mercedes    2        siyah         1.5\n",
            "3      Audi    4  metalik gri         1.5\n",
            "4      Opel    7        yeşil         1.6\n",
            "5   Renault    1        siyah           2\n"
          ]
        }
      ],
      "source": [
        "import numpy as np\n",
        "import pandas as pd\n",
        "\n",
        "#numpys bacis examples\n",
        "\n",
        "#creating array\n",
        "array1=np.array([1,2,3])\n",
        "print(array1)\n",
        "\n",
        "array3=np.array([1,2,3,4])\n",
        "\n",
        "print(array3[3])\n",
        "\n",
        "arr=np.array([1,2,3,4,5,6])\n",
        "print(arr[3]+arr[5])\n",
        "\n",
        "#2d arrays\n",
        "\n",
        "arr=np.array([[1,2,3,4,5],[6,7,8,9,10]])\n",
        "print(arr[0,2])\n",
        "\n",
        "\n",
        "#array slicing\n",
        "\n",
        "arr=np.array([1,2,3,4,5,6,7,8])\n",
        "print(arr[1:5])\n",
        "\n",
        "arr=np.array([[1,2,3,4,5],[6,7,8,9,10]])\n",
        "print(arr[0:2,1:4])\n",
        "\n",
        "\n",
        "print(arr)\n",
        "print('shape of array :', arr.shape)\n",
        "\n",
        "\n",
        "#pandas basic\n",
        "import pandas\n",
        "\n",
        "mydataset={\n",
        "  'arabalar':[\"Mazda\",\"Toyota\",\"Mercedes\",\"Audi\",\"Opel\",\"Renault\"],\n",
        "  'yaş': [3,7,2,4,7,1],\n",
        "  'renk':[\"mavi\",\"kırmızı\",\"siyah\",\"metalik gri\",\"yeşil\",\"siyah\"],\n",
        "  'motor hacmi':[\"1.6\",\"3\",\"1.5\",\"1.5\",\"1.6\",\"2\"]\n",
        "}\n",
        "myvar=pandas.DataFrame(mydataset)\n",
        "print(myvar)\n"
      ]
    }
  ]
}