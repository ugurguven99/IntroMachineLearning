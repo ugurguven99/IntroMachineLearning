{
  "nbformat": 4,
  "nbformat_minor": 0,
  "metadata": {
    "colab": {
      "provenance": [],
      "authorship_tag": "ABX9TyMbaM2aBA0E3ccA5dbhzRfX",
      "include_colab_link": true
    },
    "kernelspec": {
      "name": "python3",
      "display_name": "Python 3"
    },
    "language_info": {
      "name": "python"
    }
  },
  "cells": [
    {
      "cell_type": "markdown",
      "metadata": {
        "id": "view-in-github",
        "colab_type": "text"
      },
      "source": [
        "<a href=\"https://colab.research.google.com/github/ugurguven99/IntroMachineLearning/blob/main/Week-2/MachineLearningWeek_2Lab.ipynb\" target=\"_parent\"><img src=\"https://colab.research.google.com/assets/colab-badge.svg\" alt=\"Open In Colab\"/></a>"
      ]
    },
    {
      "cell_type": "code",
      "execution_count": 2,
      "metadata": {
        "id": "sdf6iiPvM7bi"
      },
      "outputs": [],
      "source": [
        "import numpy as np"
      ]
    },
    {
      "cell_type": "code",
      "source": [
        "array1=np.array([1,2,3,4,5,6,7,8,9,10,11,12,13,14,15])\n",
        "print(\"Vektör: \",array1)\n",
        "a=array1.reshape(3,5)\n",
        "print(\"İki boyutlu Array:\",a)"
      ],
      "metadata": {
        "colab": {
          "base_uri": "https://localhost:8080/"
        },
        "id": "dZEUdWcmNKxg",
        "outputId": "2ce229a3-7fdb-4932-921c-c9b9cb70e92e"
      },
      "execution_count": 6,
      "outputs": [
        {
          "output_type": "stream",
          "name": "stdout",
          "text": [
            "Vektör:  [ 1  2  3  4  5  6  7  8  9 10 11 12 13 14 15]\n",
            "İki boyutlu Array: [[ 1  2  3  4  5]\n",
            " [ 6  7  8  9 10]\n",
            " [11 12 13 14 15]]\n"
          ]
        }
      ]
    },
    {
      "cell_type": "code",
      "source": [
        "print(\"shape:\",a.shape)\n",
        "print(\"dimension:\",a.ndim)\n",
        "print(\"data type:\",a.dtype.name)\n",
        "print(\"size:\",a.size)\n",
        "print(\"type:\",type(a))"
      ],
      "metadata": {
        "colab": {
          "base_uri": "https://localhost:8080/"
        },
        "id": "EoylNArtOCtN",
        "outputId": "d955798c-65cd-46ff-bc22-ea262ddb6c7f"
      },
      "execution_count": 7,
      "outputs": [
        {
          "output_type": "stream",
          "name": "stdout",
          "text": [
            "shape: (3, 5)\n",
            "dimension: 2\n",
            "data type: int64\n",
            "size: 15\n",
            "type: <class 'numpy.ndarray'>\n"
          ]
        }
      ]
    },
    {
      "cell_type": "code",
      "source": [
        "x=np.array([1,2,3])\n",
        "y=np.array([4,5,6])\n",
        "print(x+y)\n",
        "print(x-y)\n",
        "print(x**2)"
      ],
      "metadata": {
        "colab": {
          "base_uri": "https://localhost:8080/"
        },
        "id": "UNsah4bOOCvJ",
        "outputId": "a01db230-d0fd-4560-d471-a54a2f997fe4"
      },
      "execution_count": 8,
      "outputs": [
        {
          "output_type": "stream",
          "name": "stdout",
          "text": [
            "[5 7 9]\n",
            "[-3 -3 -3]\n",
            "[1 4 9]\n"
          ]
        }
      ]
    },
    {
      "cell_type": "code",
      "source": [
        "a=np.array([1,2,3])\n",
        "d=a.copy()\n",
        "print(d)\n",
        "b=a\n",
        "c=a\n",
        "b[0]=5\n",
        "print(a,b,c)"
      ],
      "metadata": {
        "colab": {
          "base_uri": "https://localhost:8080/"
        },
        "id": "5ituJPofNKzv",
        "outputId": "df3e22b6-a754-4406-eea1-8e21fe22d890"
      },
      "execution_count": 9,
      "outputs": [
        {
          "output_type": "stream",
          "name": "stdout",
          "text": [
            "[1 2 3]\n",
            "[5 2 3] [5 2 3] [5 2 3]\n"
          ]
        }
      ]
    },
    {
      "cell_type": "code",
      "source": [
        "a=np.array([1,2,3,4,5,6,7])\n",
        "print(a[0])\n",
        "print(a[0:4])"
      ],
      "metadata": {
        "colab": {
          "base_uri": "https://localhost:8080/"
        },
        "id": "D4VLynC_OSvZ",
        "outputId": "505510de-9e31-4f8f-b693-3b1286787d8e"
      },
      "execution_count": 10,
      "outputs": [
        {
          "output_type": "stream",
          "name": "stdout",
          "text": [
            "1\n",
            "[1 2 3 4]\n"
          ]
        }
      ]
    },
    {
      "cell_type": "code",
      "source": [
        "reverse_array=a[::-1]\n",
        "print(reverse_array)"
      ],
      "metadata": {
        "colab": {
          "base_uri": "https://localhost:8080/"
        },
        "id": "eawOGi5MOSxZ",
        "outputId": "330dd11e-f2bb-43e7-99cc-aee3b9c8080a"
      },
      "execution_count": 11,
      "outputs": [
        {
          "output_type": "stream",
          "name": "stdout",
          "text": [
            "[7 6 5 4 3 2 1]\n"
          ]
        }
      ]
    },
    {
      "cell_type": "code",
      "source": [
        "b=np.array([[1,2,3,4,5],[6,7,8,9,10]])\n",
        "print(b)\n",
        "print(b[1,1])\n",
        "print(b[:,1])\n",
        "print(b[1,:])\n",
        "print(b[1,1:4])\n",
        "print(b[-1,:])\n",
        "print(b[:,-1])"
      ],
      "metadata": {
        "colab": {
          "base_uri": "https://localhost:8080/"
        },
        "id": "GHXmKmVSOSzh",
        "outputId": "de35bf7b-90c0-4f0e-afc5-8b0c35945733"
      },
      "execution_count": 12,
      "outputs": [
        {
          "output_type": "stream",
          "name": "stdout",
          "text": [
            "[[ 1  2  3  4  5]\n",
            " [ 6  7  8  9 10]]\n",
            "7\n",
            "[2 7]\n",
            "[ 6  7  8  9 10]\n",
            "[7 8 9]\n",
            "[ 6  7  8  9 10]\n",
            "[ 5 10]\n"
          ]
        }
      ]
    },
    {
      "cell_type": "code",
      "source": [
        "import matplotlib.pyplot as plt\n",
        "import numpy as np\n",
        "data = np.random.randn(1000)\n",
        "\n",
        "plt.hist(data,bins=30)\n",
        "plt.title(\"histogram\")\n",
        "plt.xlabel(\"Values\")\n",
        "plt.ylabel(\"Frequencies\")\n",
        "plt.show()\n"
      ],
      "metadata": {
        "colab": {
          "base_uri": "https://localhost:8080/",
          "height": 472
        },
        "id": "Tigr5_zEOS4S",
        "outputId": "4abaed7e-8464-4d55-8486-2bd9320349f9"
      },
      "execution_count": 13,
      "outputs": [
        {
          "output_type": "display_data",
          "data": {
            "text/plain": [
              "<Figure size 640x480 with 1 Axes>"
            ],
            "image/png": "[encoded data removed]"
          },
          "metadata": {}
        }
      ]
    },
    {
      "cell_type": "code",
      "source": [
        "sizes=[32,50,90,108,5,3.356]\n",
        "plt.pie(sizes)\n",
        "plt.title(\"Pie Chart\")\n",
        "plt.show()"
      ],
      "metadata": {
        "colab": {
          "base_uri": "https://localhost:8080/",
          "height": 428
        },
        "id": "gf7RgdGBOdrt",
        "outputId": "0f9385cc-5f93-43b2-fc49-30a0d52cc0be"
      },
      "execution_count": 19,
      "outputs": [
        {
          "output_type": "display_data",
          "data": {
            "text/plain": [
              "<Figure size 640x480 with 1 Axes>"
            ],
            "image/png": "[encoded data removed]"
          },
          "metadata": {}
        }
      ]
    }
  ]
}