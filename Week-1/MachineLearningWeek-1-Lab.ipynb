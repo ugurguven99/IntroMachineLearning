{
  "nbformat": 4,
  "nbformat_minor": 0,
  "metadata": {
    "colab": {
      "provenance": [],
      "authorship_tag": "ABX9TyN6EAy1ClbHw+vWI+boiWMx",
      "include_colab_link": true
    },
    "kernelspec": {
      "name": "python3",
      "display_name": "Python 3"
    },
    "language_info": {
      "name": "python"
    }
  },
  "cells": [
    {
      "cell_type": "markdown",
      "metadata": {
        "id": "view-in-github",
        "colab_type": "text"
      },
      "source": [
        "<a href=\"https://colab.research.google.com/github/ugurguven99/IntroMachineLearning/blob/main/Week-1/MachineLearningWeek-1-Lab.ipynb\" target=\"_parent\"><img src=\"https://colab.research.google.com/assets/colab-badge.svg\" alt=\"Open In Colab\"/></a>"
      ]
    },
    {
      "cell_type": "code",
      "execution_count": 1,
      "metadata": {
        "colab": {
          "base_uri": "https://localhost:8080/"
        },
        "id": "8KDX-VsRIM2Y",
        "outputId": "0e392142-d78b-47d0-e1ee-5adfc686d86e"
      },
      "outputs": [
        {
          "output_type": "stream",
          "name": "stdout",
          "text": [
            "11\n",
            "23\n",
            "cumartesi\n"
          ]
        },
        {
          "output_type": "execute_result",
          "data": {
            "text/plain": [
              "str"
            ]
          },
          "metadata": {},
          "execution_count": 1
        }
      ],
      "source": [
        "a=11\n",
        "var1=23\n",
        "x=\"cumartesi\"\n",
        "\n",
        "print(a)\n",
        "print(var1)\n",
        "print(x)\n",
        "type(x)"
      ]
    },
    {
      "cell_type": "code",
      "source": [
        "var1=15\n",
        "var2=24\n",
        "var3=33\n",
        "list_int=[15,24,33]\n",
        "print(list_int)"
      ],
      "metadata": {
        "colab": {
          "base_uri": "https://localhost:8080/"
        },
        "id": "bqouKGE-JSz9",
        "outputId": "648967ab-7f9d-4c3f-f17d-e9533e44502e"
      },
      "execution_count": 5,
      "outputs": [
        {
          "output_type": "stream",
          "name": "stdout",
          "text": [
            "[15, 24, 33]\n"
          ]
        }
      ]
    },
    {
      "cell_type": "code",
      "source": [
        "list_int[0]\n",
        "list_int[-1]"
      ],
      "metadata": {
        "colab": {
          "base_uri": "https://localhost:8080/"
        },
        "id": "EMHtkeU5Jh1b",
        "outputId": "9f9ba62e-5c6e-465a-cf5b-484605a2d5a8"
      },
      "execution_count": 7,
      "outputs": [
        {
          "output_type": "execute_result",
          "data": {
            "text/plain": [
              "33"
            ]
          },
          "metadata": {},
          "execution_count": 7
        }
      ]
    },
    {
      "cell_type": "code",
      "source": [
        "list_int[0:3]"
      ],
      "metadata": {
        "colab": {
          "base_uri": "https://localhost:8080/"
        },
        "id": "Bzb3tWIGJimS",
        "outputId": "709eea2f-7047-4a2e-9c83-ccc3c18d3533"
      },
      "execution_count": 8,
      "outputs": [
        {
          "output_type": "execute_result",
          "data": {
            "text/plain": [
              "[15, 24, 33]"
            ]
          },
          "metadata": {},
          "execution_count": 8
        }
      ]
    },
    {
      "cell_type": "code",
      "source": [
        "list_int.append(25)\n",
        "print(list_int)"
      ],
      "metadata": {
        "colab": {
          "base_uri": "https://localhost:8080/"
        },
        "id": "m9yBL_-nJxR0",
        "outputId": "74653e70-6dfb-4c35-c84f-5fffdc30fe1c"
      },
      "execution_count": 9,
      "outputs": [
        {
          "output_type": "stream",
          "name": "stdout",
          "text": [
            "[15, 24, 33, 25]\n"
          ]
        }
      ]
    },
    {
      "cell_type": "code",
      "source": [
        "list_int.remove(33)\n",
        "print(list_int)"
      ],
      "metadata": {
        "colab": {
          "base_uri": "https://localhost:8080/"
        },
        "id": "e6jxx-UcJh6S",
        "outputId": "c4f4de72-0c80-4310-d5ce-2ca6b22d7caa"
      },
      "execution_count": 10,
      "outputs": [
        {
          "output_type": "stream",
          "name": "stdout",
          "text": [
            "[15, 24, 25]\n"
          ]
        }
      ]
    },
    {
      "cell_type": "code",
      "source": [
        "list_int.reverse()\n",
        "print(list_int)"
      ],
      "metadata": {
        "colab": {
          "base_uri": "https://localhost:8080/"
        },
        "id": "Vbf0m60rJh-K",
        "outputId": "32e08bab-381d-49c0-d04a-3040e9978c68"
      },
      "execution_count": 11,
      "outputs": [
        {
          "output_type": "stream",
          "name": "stdout",
          "text": [
            "[25, 24, 15]\n"
          ]
        }
      ]
    },
    {
      "cell_type": "code",
      "source": [
        "y=30\n",
        "for each in list_int:\n",
        "    if(each>y):\n",
        "        y=each\n",
        "    else:\n",
        "        continue\n",
        "print(y)"
      ],
      "metadata": {
        "colab": {
          "base_uri": "https://localhost:8080/"
        },
        "id": "N2evoja0KK9M",
        "outputId": "739c32b8-d8fe-465a-855a-eca833d0fa2a"
      },
      "execution_count": 12,
      "outputs": [
        {
          "output_type": "stream",
          "name": "stdout",
          "text": [
            "30\n"
          ]
        }
      ]
    },
    {
      "cell_type": "code",
      "source": [
        "t=0\n",
        "while(t<5):\n",
        "    print(t)\n",
        "    t=t+1"
      ],
      "metadata": {
        "colab": {
          "base_uri": "https://localhost:8080/"
        },
        "id": "djYyBAZbKSS5",
        "outputId": "567a4f3a-5001-43d0-f080-00c51f8d64ec"
      },
      "execution_count": 14,
      "outputs": [
        {
          "output_type": "stream",
          "name": "stdout",
          "text": [
            "0\n",
            "1\n",
            "2\n",
            "3\n",
            "4\n"
          ]
        }
      ]
    },
    {
      "cell_type": "code",
      "source": [
        "result=lambda x:x*x\n",
        "print(result(5))"
      ],
      "metadata": {
        "colab": {
          "base_uri": "https://localhost:8080/"
        },
        "id": "-_sCQ-txKSVK",
        "outputId": "4f9b88ab-983c-47b7-cd37-a10082460d6a"
      },
      "execution_count": 15,
      "outputs": [
        {
          "output_type": "stream",
          "name": "stdout",
          "text": [
            "25\n"
          ]
        }
      ]
    },
    {
      "cell_type": "code",
      "source": [
        "dictionary={\"ugur\":21,\"guven\":40,\"hamza\":25} #keys&values\n",
        "print(dictionary)"
      ],
      "metadata": {
        "colab": {
          "base_uri": "https://localhost:8080/"
        },
        "id": "yuewWX2jKSXq",
        "outputId": "120ece76-7dba-4a4e-a052-f5014db1884d"
      },
      "execution_count": 16,
      "outputs": [
        {
          "output_type": "stream",
          "name": "stdout",
          "text": [
            "{'ugur': 21, 'guven': 40, 'hamza': 25}\n"
          ]
        }
      ]
    },
    {
      "cell_type": "code",
      "source": [
        "type(dictionary)"
      ],
      "metadata": {
        "colab": {
          "base_uri": "https://localhost:8080/"
        },
        "id": "Jn-uZL7aKpOB",
        "outputId": "b0799fb6-5226-4ff9-c4ef-8cb38d738577"
      },
      "execution_count": 17,
      "outputs": [
        {
          "output_type": "execute_result",
          "data": {
            "text/plain": [
              "dict"
            ]
          },
          "metadata": {},
          "execution_count": 17
        }
      ]
    },
    {
      "cell_type": "code",
      "source": [
        "dictionary.keys()"
      ],
      "metadata": {
        "colab": {
          "base_uri": "https://localhost:8080/"
        },
        "id": "sctiQWTwKpP_",
        "outputId": "4e8d2e35-ccad-4504-cf5a-c9fcaa5d950a"
      },
      "execution_count": 19,
      "outputs": [
        {
          "output_type": "execute_result",
          "data": {
            "text/plain": [
              "dict_keys(['ugur', 'guven', 'hamza'])"
            ]
          },
          "metadata": {},
          "execution_count": 19
        }
      ]
    },
    {
      "cell_type": "code",
      "source": [
        "dictionary.values()"
      ],
      "metadata": {
        "colab": {
          "base_uri": "https://localhost:8080/"
        },
        "id": "zHTTt4TFKtWR",
        "outputId": "49f9b038-0025-450d-b8d8-6ae51ee76c0f"
      },
      "execution_count": 20,
      "outputs": [
        {
          "output_type": "execute_result",
          "data": {
            "text/plain": [
              "dict_values([21, 40, 25])"
            ]
          },
          "metadata": {},
          "execution_count": 20
        }
      ]
    },
    {
      "cell_type": "code",
      "source": [
        "b=dictionary.keys()\n",
        "\n",
        "if \"betül\" in b:\n",
        "    print(\"yes\")\n",
        "else:\n",
        "    print(\"no\")"
      ],
      "metadata": {
        "colab": {
          "base_uri": "https://localhost:8080/"
        },
        "id": "9zLSF3N5KtYZ",
        "outputId": "f4b2b8dc-8827-43cc-c070-78bea9948d56"
      },
      "execution_count": 21,
      "outputs": [
        {
          "output_type": "stream",
          "name": "stdout",
          "text": [
            "no\n"
          ]
        }
      ]
    }
  ]
}